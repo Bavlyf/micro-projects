{
 "metadata": {
  "language_info": {
   "codemirror_mode": {
    "name": "ipython",
    "version": 3
   },
   "file_extension": ".py",
   "mimetype": "text/x-python",
   "name": "python",
   "nbconvert_exporter": "python",
   "pygments_lexer": "ipython3",
   "version": "3.7.9-final"
  },
  "orig_nbformat": 2,
  "kernelspec": {
   "name": "python3",
   "display_name": "Python 3",
   "language": "python"
  }
 },
 "nbformat": 4,
 "nbformat_minor": 2,
 "cells": [
  {
   "cell_type": "code",
   "execution_count": null,
   "metadata": {},
   "outputs": [],
   "source": [
    "import pandas\n",
    "df1=pandas.DataFrame([[1,2,3],[20,40,60]],columns=[\"Price\",\"Value\",\"Age\"])\n",
    "df1.Age.max()"
   ]
  },
  {
   "cell_type": "code",
   "execution_count": null,
   "metadata": {},
   "outputs": [],
   "source": [
    "df_csv = pandas.read_csv(\"../dataset/supermarkets.csv\")\n",
    "df_json = pandas.read_json(\"../dataset/supermarkets.json\")\n",
    "df_excel = pandas.read_excel(\"../dataset/supermarkets.xlsx\")\n",
    "print(df_excel)"
   ]
  },
  {
   "cell_type": "code",
   "execution_count": null,
   "metadata": {},
   "outputs": [],
   "source": [
    "#df_excel.columns=[\"ID\",\"Not Address\",\"NotCity\",\"NotState\",\"NotCountry\",\"Super\",\"Employees\"]\n",
    "df_excel.set_index(\"ID\")\n",
    "df_excel.iloc[2,1:3]\n",
    "#first parameter is the name of the column or row, second param (0=row, 1=column)\n",
    "df_excel.drop(\"NotCity\",1)\n",
    "df_excel.columns\n",
    "df_excel.index\n",
    "df_excel.drop(df_excel.columns[0:2],1)\n",
    "#df_excel[\"Continent\"] = df_excel.shape[1]*[\"North America\"]\n",
    "df_excel_new_row = df_excel.T\n",
    "df_excel_new_row[3] =[\"7\",\"MyAddress\",\"MyCity\",\"MyState\",\"MyCountry\",\"Mysuper\",17,\"MyContinent\"]\n",
    "df_excel = df_excel_new_row.T\n",
    "df_excel"
   ]
  },
  {
   "cell_type": "code",
   "execution_count": null,
   "metadata": {},
   "outputs": [],
   "source": []
  }
 ]
}